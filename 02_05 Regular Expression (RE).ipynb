{
 "cells": [
  {
   "cell_type": "code",
   "execution_count": 4,
   "id": "dd40ca50",
   "metadata": {},
   "outputs": [],
   "source": [
    "import re\n",
    "r = re.compile(\"a.c\") # a 와 c 사이에는 어떤 1개의 문자라도 올 수 있다. akc, azc, a5c 등등 전부 a.c 와 매치 됨\n",
    "r.search(\"kkk\") # 아무것도 안나옴"
   ]
  },
  {
   "cell_type": "code",
   "execution_count": 13,
   "id": "c9bdf1f4",
   "metadata": {},
   "outputs": [
    {
     "data": {
      "text/plain": [
       "<re.Match object; span=(7, 10), match='a2c'>"
      ]
     },
     "execution_count": 13,
     "metadata": {},
     "output_type": "execute_result"
    }
   ],
   "source": [
    "r.search(\"akc\")"
   ]
  },
  {
   "cell_type": "code",
   "execution_count": 8,
   "id": "92cb7dd9",
   "metadata": {},
   "outputs": [],
   "source": [
    "r.search(\"ac\")"
   ]
  },
  {
   "cell_type": "code",
   "execution_count": 11,
   "id": "9efda9d5",
   "metadata": {},
   "outputs": [
    {
     "data": {
      "text/plain": [
       "<re.Match object; span=(7, 10), match='a2c'>"
      ]
     },
     "execution_count": 11,
     "metadata": {},
     "output_type": "execute_result"
    }
   ],
   "source": [
    "r.search(\"aaaaaaaa2caaaaaaaaa\") # span 에서 일치한 문자열의 위치를 알려주나봄"
   ]
  },
  {
   "cell_type": "code",
   "execution_count": 24,
   "id": "02bf13c9",
   "metadata": {},
   "outputs": [
    {
     "data": {
      "text/plain": [
       "<re.Match object; span=(0, 3), match='abc'>"
      ]
     },
     "execution_count": 24,
     "metadata": {},
     "output_type": "execute_result"
    }
   ],
   "source": [
    "r = re.compile(\"ab?c\")  # b가 있거나 없거나\n",
    "# a b? c 이런식으로 띄워쓰기 하면 띄워쓰기도 일치해야한다.\n",
    "# 여기서는 abc / ac 가 매치함\n",
    "r.search(\"abc\")"
   ]
  },
  {
   "cell_type": "code",
   "execution_count": null,
   "id": "612d4682",
   "metadata": {},
   "outputs": [],
   "source": []
  }
 ],
 "metadata": {
  "kernelspec": {
   "display_name": "Python 3",
   "language": "python",
   "name": "python3"
  },
  "language_info": {
   "codemirror_mode": {
    "name": "ipython",
    "version": 3
   },
   "file_extension": ".py",
   "mimetype": "text/x-python",
   "name": "python",
   "nbconvert_exporter": "python",
   "pygments_lexer": "ipython3",
   "version": "3.8.8"
  }
 },
 "nbformat": 4,
 "nbformat_minor": 5
}
